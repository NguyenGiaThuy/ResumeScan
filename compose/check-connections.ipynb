{
 "cells": [
  {
   "cell_type": "markdown",
   "metadata": {},
   "source": [
    "# Service Connection Check\n",
    "\n",
    "This notebook verifies connectivity to Redis, PostgreSQL, and Kafka services as configured in the docker-compose setup."
   ]
  },
  {
   "cell_type": "markdown",
   "metadata": {},
   "source": [
    "## Install Required Libraries\n",
    "\n",
    "Install the necessary Python libraries for connecting to Redis, PostgreSQL, and Kafka."
   ]
  },
  {
   "cell_type": "code",
   "execution_count": null,
   "metadata": {},
   "outputs": [],
   "source": [
    "%pip install redis psycopg2-binary six"
   ]
  },
  {
   "cell_type": "markdown",
   "metadata": {},
   "source": [
    "## Test Redis Connection\n",
    "\n",
    "Connect to the Redis service and perform a simple set/get operation."
   ]
  },
  {
   "cell_type": "code",
   "execution_count": null,
   "metadata": {},
   "outputs": [],
   "source": [
    "import redis\n",
    "\n",
    "try:\n",
    "    redis_client = redis.Redis(host='localhost', port=6379, decode_responses=True)\n",
    "    if redis_client.ping():\n",
    "        print('Redis ping successful!')\n",
    "except Exception as e:\n",
    "    print(f'Redis connection failed: {str(e)}')"
   ]
  },
  {
   "cell_type": "markdown",
   "metadata": {},
   "source": [
    "## Test PostgreSQL Connection\n",
    "\n",
    "Connect to the PostgreSQL database and execute a simple query."
   ]
  },
  {
   "cell_type": "code",
   "execution_count": null,
   "metadata": {},
   "outputs": [],
   "source": [
    "import psycopg2\n",
    "\n",
    "user = \"\"\n",
    "password = \"\"\n",
    "\n",
    "with open(\"./test-secrets/postgres_user.txt\") as f:\n",
    "    user = f.read().strip()\n",
    "with open(\"./test-secrets/postgres_password.txt\") as f:\n",
    "    password = f.read().strip()\n",
    "\n",
    "try:\n",
    "    conn = psycopg2.connect(\n",
    "        host=\"localhost\",\n",
    "        port=5432,\n",
    "        dbname=\"langgraph_db\",\n",
    "        user=user,\n",
    "        password=password\n",
    "    )\n",
    "    cur = conn.cursor()\n",
    "    cur.execute(\"SELECT version();\")\n",
    "    version = cur.fetchone()[0]\n",
    "    print(f\"PostgreSQL connection successful. Server version: {version}\")\n",
    "    cur.close()\n",
    "    conn.close()\n",
    "except Exception as e:\n",
    "    print(f\"PostgreSQL connection failed: {e}\")\n"
   ]
  },
  {
   "cell_type": "markdown",
   "metadata": {},
   "source": [
    "---"
   ]
  }
 ],
 "metadata": {
  "kernelspec": {
   "display_name": "Python 3",
   "language": "python",
   "name": "python3"
  },
  "language_info": {
   "codemirror_mode": {
    "name": "ipython",
    "version": 3
   },
   "file_extension": ".py",
   "mimetype": "text/x-python",
   "name": "python",
   "nbconvert_exporter": "python",
   "pygments_lexer": "ipython3",
   "version": "3.12.0"
  }
 },
 "nbformat": 4,
 "nbformat_minor": 4
}
